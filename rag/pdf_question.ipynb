{
 "cells": [
  {
   "cell_type": "code",
   "execution_count": 1,
   "metadata": {},
   "outputs": [],
   "source": [
    "from langchain_community.document_loaders import PDFMinerLoader\n",
    "from langchain_text_splitters import RecursiveCharacterTextSplitter\n",
    "from langchain_community.vectorstores.chroma import Chroma\n",
    "from langchain_community.chat_models.ollama import ChatOllama\n",
    "from langchain_core.prompts import ChatPromptTemplate\n",
    "from langchain_community.embeddings.huggingface import HuggingFaceEmbeddings"
   ]
  },
  {
   "cell_type": "code",
   "execution_count": 2,
   "metadata": {},
   "outputs": [
    {
     "name": "stderr",
     "output_type": "stream",
     "text": [
      "/home/jellyfish/llms/simienv/lib/python3.11/site-packages/tqdm/auto.py:21: TqdmWarning: IProgress not found. Please update jupyter and ipywidgets. See https://ipywidgets.readthedocs.io/en/stable/user_install.html\n",
      "  from .autonotebook import tqdm as notebook_tqdm\n"
     ]
    }
   ],
   "source": [
    "llm = ChatOllama(model='llama2',temperature=0.1,top_p=1)\n",
    "embeddings = HuggingFaceEmbeddings()\n",
    "# text_splitter = RecursiveCharacterTextSplitter('')\n"
   ]
  },
  {
   "cell_type": "code",
   "execution_count": 3,
   "metadata": {},
   "outputs": [
    {
     "data": {
      "text/plain": [
       "[Document(page_content='“e_ confirmed\\n\\na -\\n\\nWithdrawal confirmation (\\n\\nT\\n\\n|\\n\\n|\\n\\n|\\n|\\n|\\n\\nCreate invoice Store OTP\\n\\ni Return OTP OTP stored\\n\\nImq- — — — _\\n\\nDisplay OTP form\\n\\n|\\n_ |\\nEnter OTP-————> . |\\n\\ned\\n\\n_ -______-_] \\\\ — “OTP verified OK | OTP verified OK\\n\\n[eS SS SS ee\\n\\nVerify OTP am Verify OTP\\n\\nOTP verified OK |\\n\\n|\\noo form |\\n\\n—_——_——\\n\\n|\\n|\\n\\n|\\n|\\n\\n|\\n\\n\\x0c', metadata={'source': '/home/jellyfish/llms/rag/flowchart_ocrmypdf.pdf'})]"
      ]
     },
     "execution_count": 3,
     "metadata": {},
     "output_type": "execute_result"
    }
   ],
   "source": [
    "loader = PDFMinerLoader('/home/jellyfish/llms/rag/flowchart_ocrmypdf.pdf')\n",
    "document = loader.load()\n",
    "document"
   ]
  },
  {
   "cell_type": "code",
   "execution_count": 4,
   "metadata": {},
   "outputs": [],
   "source": [
    "prompt = ChatPromptTemplate.from_template(\n",
    "    \"\"\" Here I am giving you extracted text of technical flowchart. summarize  me what this flow chart wanna convey:\n",
    "    \n",
    "    EXTRACTED TEXT: {extracted}\n",
    "\"\"\"\n",
    ")"
   ]
  },
  {
   "cell_type": "code",
   "execution_count": 5,
   "metadata": {},
   "outputs": [],
   "source": [
    "chain = prompt|llm"
   ]
  },
  {
   "cell_type": "code",
   "execution_count": 6,
   "metadata": {},
   "outputs": [],
   "source": [
    "output = chain.invoke({'extracted':document})"
   ]
  },
  {
   "cell_type": "code",
   "execution_count": 7,
   "metadata": {},
   "outputs": [
    {
     "name": "stdout",
     "output_type": "stream",
     "text": [
      "content=' Based on the extracted text you provided, this flow chart appears to convey a process for confirming the withdrawal of funds from an account using an one-time password (OTP) sent via SMS or email. Here is a summary of the steps involved:\\n\\n1. The user receives an OTP via SMS or email.\\n2. The user enters the OTP on the form provided.\\n3. The system verifies the OTP and confirms that it is valid.\\n4. If the OTP is valid, the withdrawal is confirmed and the user can proceed with the withdrawal process.\\n5. If the OTP is invalid or expired, an error message is displayed and the user must try again.\\n\\nOverall, this flow chart appears to be designed to ensure that only authorized users can access their accounts and perform withdrawals by providing an additional layer of security through the use of an OTP.' response_metadata={'model': 'llama2', 'created_at': '2024-06-13T09:37:56.519065835Z', 'message': {'role': 'assistant', 'content': ''}, 'done': True, 'total_duration': 165525612935, 'load_duration': 11035924902, 'prompt_eval_count': 291, 'prompt_eval_duration': 84652243000, 'eval_count': 195, 'eval_duration': 69834107000} id='run-90e4ac54-e80b-4825-a4c6-82920d3043ef-0'\n"
     ]
    }
   ],
   "source": [
    "print(output)"
   ]
  },
  {
   "cell_type": "code",
   "execution_count": null,
   "metadata": {},
   "outputs": [],
   "source": []
  }
 ],
 "metadata": {
  "kernelspec": {
   "display_name": "simienv",
   "language": "python",
   "name": "python3"
  },
  "language_info": {
   "codemirror_mode": {
    "name": "ipython",
    "version": 3
   },
   "file_extension": ".py",
   "mimetype": "text/x-python",
   "name": "python",
   "nbconvert_exporter": "python",
   "pygments_lexer": "ipython3",
   "version": "3.11.5"
  }
 },
 "nbformat": 4,
 "nbformat_minor": 2
}
