{
 "cells": [
  {
   "cell_type": "markdown",
   "metadata": {},
   "source": [
    "Downloading Dependencies"
   ]
  },
  {
   "cell_type": "code",
   "execution_count": 30,
   "metadata": {},
   "outputs": [
    {
     "name": "stdout",
     "output_type": "stream",
     "text": [
      "Collecting llama-index-storage-docstore-redis\n",
      "  Downloading llama_index_storage_docstore_redis-0.1.2-py3-none-any.whl.metadata (728 bytes)\n",
      "Requirement already satisfied: llama-index-core<0.11.0,>=0.10.1 in /home/jellyfish/llms/simienv/lib/python3.11/site-packages (from llama-index-storage-docstore-redis) (0.10.35.post1)\n",
      "Collecting llama-index-storage-kvstore-redis<0.2.0,>=0.1.1 (from llama-index-storage-docstore-redis)\n",
      "  Downloading llama_index_storage_kvstore_redis-0.1.5-py3-none-any.whl.metadata (645 bytes)\n",
      "Requirement already satisfied: PyYAML>=6.0.1 in /home/jellyfish/llms/simienv/lib/python3.11/site-packages (from llama-index-core<0.11.0,>=0.10.1->llama-index-storage-docstore-redis) (6.0.1)\n",
      "Requirement already satisfied: SQLAlchemy>=1.4.49 in /home/jellyfish/llms/simienv/lib/python3.11/site-packages (from SQLAlchemy[asyncio]>=1.4.49->llama-index-core<0.11.0,>=0.10.1->llama-index-storage-docstore-redis) (2.0.28)\n",
      "Requirement already satisfied: aiohttp<4.0.0,>=3.8.6 in /home/jellyfish/llms/simienv/lib/python3.11/site-packages (from llama-index-core<0.11.0,>=0.10.1->llama-index-storage-docstore-redis) (3.9.3)\n",
      "Requirement already satisfied: dataclasses-json in /home/jellyfish/llms/simienv/lib/python3.11/site-packages (from llama-index-core<0.11.0,>=0.10.1->llama-index-storage-docstore-redis) (0.6.4)\n",
      "Requirement already satisfied: deprecated>=1.2.9.3 in /home/jellyfish/llms/simienv/lib/python3.11/site-packages (from llama-index-core<0.11.0,>=0.10.1->llama-index-storage-docstore-redis) (1.2.14)\n",
      "Requirement already satisfied: dirtyjson<2.0.0,>=1.0.8 in /home/jellyfish/llms/simienv/lib/python3.11/site-packages (from llama-index-core<0.11.0,>=0.10.1->llama-index-storage-docstore-redis) (1.0.8)\n",
      "Requirement already satisfied: fsspec>=2023.5.0 in /home/jellyfish/llms/simienv/lib/python3.11/site-packages (from llama-index-core<0.11.0,>=0.10.1->llama-index-storage-docstore-redis) (2024.2.0)\n",
      "Requirement already satisfied: httpx in /home/jellyfish/llms/simienv/lib/python3.11/site-packages (from llama-index-core<0.11.0,>=0.10.1->llama-index-storage-docstore-redis) (0.27.0)\n",
      "Requirement already satisfied: llamaindex-py-client<0.2.0,>=0.1.18 in /home/jellyfish/llms/simienv/lib/python3.11/site-packages (from llama-index-core<0.11.0,>=0.10.1->llama-index-storage-docstore-redis) (0.1.19)\n",
      "Requirement already satisfied: nest-asyncio<2.0.0,>=1.5.8 in /home/jellyfish/llms/simienv/lib/python3.11/site-packages (from llama-index-core<0.11.0,>=0.10.1->llama-index-storage-docstore-redis) (1.6.0)\n",
      "Requirement already satisfied: networkx>=3.0 in /home/jellyfish/llms/simienv/lib/python3.11/site-packages (from llama-index-core<0.11.0,>=0.10.1->llama-index-storage-docstore-redis) (3.2.1)\n",
      "Requirement already satisfied: nltk<4.0.0,>=3.8.1 in /home/jellyfish/llms/simienv/lib/python3.11/site-packages (from llama-index-core<0.11.0,>=0.10.1->llama-index-storage-docstore-redis) (3.8.1)\n",
      "Requirement already satisfied: numpy in /home/jellyfish/llms/simienv/lib/python3.11/site-packages (from llama-index-core<0.11.0,>=0.10.1->llama-index-storage-docstore-redis) (1.26.4)\n",
      "Requirement already satisfied: openai>=1.1.0 in /home/jellyfish/llms/simienv/lib/python3.11/site-packages (from llama-index-core<0.11.0,>=0.10.1->llama-index-storage-docstore-redis) (1.16.1)\n",
      "Requirement already satisfied: pandas in /home/jellyfish/llms/simienv/lib/python3.11/site-packages (from llama-index-core<0.11.0,>=0.10.1->llama-index-storage-docstore-redis) (2.2.1)\n",
      "Requirement already satisfied: pillow>=9.0.0 in /home/jellyfish/llms/simienv/lib/python3.11/site-packages (from llama-index-core<0.11.0,>=0.10.1->llama-index-storage-docstore-redis) (10.2.0)\n",
      "Requirement already satisfied: requests>=2.31.0 in /home/jellyfish/llms/simienv/lib/python3.11/site-packages (from llama-index-core<0.11.0,>=0.10.1->llama-index-storage-docstore-redis) (2.31.0)\n",
      "Requirement already satisfied: tenacity<9.0.0,>=8.2.0 in /home/jellyfish/llms/simienv/lib/python3.11/site-packages (from llama-index-core<0.11.0,>=0.10.1->llama-index-storage-docstore-redis) (8.2.3)\n",
      "Requirement already satisfied: tiktoken>=0.3.3 in /home/jellyfish/llms/simienv/lib/python3.11/site-packages (from llama-index-core<0.11.0,>=0.10.1->llama-index-storage-docstore-redis) (0.6.0)\n",
      "Requirement already satisfied: tqdm<5.0.0,>=4.66.1 in /home/jellyfish/llms/simienv/lib/python3.11/site-packages (from llama-index-core<0.11.0,>=0.10.1->llama-index-storage-docstore-redis) (4.66.2)\n",
      "Requirement already satisfied: typing-extensions>=4.5.0 in /home/jellyfish/llms/simienv/lib/python3.11/site-packages (from llama-index-core<0.11.0,>=0.10.1->llama-index-storage-docstore-redis) (4.10.0)\n",
      "Requirement already satisfied: typing-inspect>=0.8.0 in /home/jellyfish/llms/simienv/lib/python3.11/site-packages (from llama-index-core<0.11.0,>=0.10.1->llama-index-storage-docstore-redis) (0.9.0)\n",
      "Requirement already satisfied: wrapt in /home/jellyfish/llms/simienv/lib/python3.11/site-packages (from llama-index-core<0.11.0,>=0.10.1->llama-index-storage-docstore-redis) (1.16.0)\n",
      "Requirement already satisfied: redis<6.0.0,>=5.0.1 in /home/jellyfish/llms/simienv/lib/python3.11/site-packages (from llama-index-storage-kvstore-redis<0.2.0,>=0.1.1->llama-index-storage-docstore-redis) (5.0.4)\n",
      "Requirement already satisfied: aiosignal>=1.1.2 in /home/jellyfish/llms/simienv/lib/python3.11/site-packages (from aiohttp<4.0.0,>=3.8.6->llama-index-core<0.11.0,>=0.10.1->llama-index-storage-docstore-redis) (1.3.1)\n",
      "Requirement already satisfied: attrs>=17.3.0 in /home/jellyfish/llms/simienv/lib/python3.11/site-packages (from aiohttp<4.0.0,>=3.8.6->llama-index-core<0.11.0,>=0.10.1->llama-index-storage-docstore-redis) (23.2.0)\n",
      "Requirement already satisfied: frozenlist>=1.1.1 in /home/jellyfish/llms/simienv/lib/python3.11/site-packages (from aiohttp<4.0.0,>=3.8.6->llama-index-core<0.11.0,>=0.10.1->llama-index-storage-docstore-redis) (1.4.1)\n",
      "Requirement already satisfied: multidict<7.0,>=4.5 in /home/jellyfish/llms/simienv/lib/python3.11/site-packages (from aiohttp<4.0.0,>=3.8.6->llama-index-core<0.11.0,>=0.10.1->llama-index-storage-docstore-redis) (6.0.5)\n",
      "Requirement already satisfied: yarl<2.0,>=1.0 in /home/jellyfish/llms/simienv/lib/python3.11/site-packages (from aiohttp<4.0.0,>=3.8.6->llama-index-core<0.11.0,>=0.10.1->llama-index-storage-docstore-redis) (1.9.4)\n",
      "Requirement already satisfied: pydantic>=1.10 in /home/jellyfish/llms/simienv/lib/python3.11/site-packages (from llamaindex-py-client<0.2.0,>=0.1.18->llama-index-core<0.11.0,>=0.10.1->llama-index-storage-docstore-redis) (2.6.4)\n",
      "Requirement already satisfied: anyio in /home/jellyfish/llms/simienv/lib/python3.11/site-packages (from httpx->llama-index-core<0.11.0,>=0.10.1->llama-index-storage-docstore-redis) (4.3.0)\n",
      "Requirement already satisfied: certifi in /home/jellyfish/llms/simienv/lib/python3.11/site-packages (from httpx->llama-index-core<0.11.0,>=0.10.1->llama-index-storage-docstore-redis) (2024.2.2)\n",
      "Requirement already satisfied: httpcore==1.* in /home/jellyfish/llms/simienv/lib/python3.11/site-packages (from httpx->llama-index-core<0.11.0,>=0.10.1->llama-index-storage-docstore-redis) (1.0.4)\n",
      "Requirement already satisfied: idna in /home/jellyfish/llms/simienv/lib/python3.11/site-packages (from httpx->llama-index-core<0.11.0,>=0.10.1->llama-index-storage-docstore-redis) (3.6)\n",
      "Requirement already satisfied: sniffio in /home/jellyfish/llms/simienv/lib/python3.11/site-packages (from httpx->llama-index-core<0.11.0,>=0.10.1->llama-index-storage-docstore-redis) (1.3.1)\n",
      "Requirement already satisfied: h11<0.15,>=0.13 in /home/jellyfish/llms/simienv/lib/python3.11/site-packages (from httpcore==1.*->httpx->llama-index-core<0.11.0,>=0.10.1->llama-index-storage-docstore-redis) (0.14.0)\n",
      "Requirement already satisfied: click in /home/jellyfish/llms/simienv/lib/python3.11/site-packages (from nltk<4.0.0,>=3.8.1->llama-index-core<0.11.0,>=0.10.1->llama-index-storage-docstore-redis) (8.1.7)\n",
      "Requirement already satisfied: joblib in /home/jellyfish/llms/simienv/lib/python3.11/site-packages (from nltk<4.0.0,>=3.8.1->llama-index-core<0.11.0,>=0.10.1->llama-index-storage-docstore-redis) (1.3.2)\n",
      "Requirement already satisfied: regex>=2021.8.3 in /home/jellyfish/llms/simienv/lib/python3.11/site-packages (from nltk<4.0.0,>=3.8.1->llama-index-core<0.11.0,>=0.10.1->llama-index-storage-docstore-redis) (2023.12.25)\n",
      "Requirement already satisfied: distro<2,>=1.7.0 in /home/jellyfish/llms/simienv/lib/python3.11/site-packages (from openai>=1.1.0->llama-index-core<0.11.0,>=0.10.1->llama-index-storage-docstore-redis) (1.9.0)\n",
      "Requirement already satisfied: charset-normalizer<4,>=2 in /home/jellyfish/llms/simienv/lib/python3.11/site-packages (from requests>=2.31.0->llama-index-core<0.11.0,>=0.10.1->llama-index-storage-docstore-redis) (3.3.2)\n",
      "Requirement already satisfied: urllib3<3,>=1.21.1 in /home/jellyfish/llms/simienv/lib/python3.11/site-packages (from requests>=2.31.0->llama-index-core<0.11.0,>=0.10.1->llama-index-storage-docstore-redis) (2.0.7)\n",
      "Requirement already satisfied: greenlet!=0.4.17 in /home/jellyfish/llms/simienv/lib/python3.11/site-packages (from SQLAlchemy>=1.4.49->SQLAlchemy[asyncio]>=1.4.49->llama-index-core<0.11.0,>=0.10.1->llama-index-storage-docstore-redis) (3.0.3)\n",
      "Requirement already satisfied: mypy-extensions>=0.3.0 in /home/jellyfish/llms/simienv/lib/python3.11/site-packages (from typing-inspect>=0.8.0->llama-index-core<0.11.0,>=0.10.1->llama-index-storage-docstore-redis) (1.0.0)\n",
      "Requirement already satisfied: marshmallow<4.0.0,>=3.18.0 in /home/jellyfish/llms/simienv/lib/python3.11/site-packages (from dataclasses-json->llama-index-core<0.11.0,>=0.10.1->llama-index-storage-docstore-redis) (3.21.1)\n",
      "Requirement already satisfied: python-dateutil>=2.8.2 in /home/jellyfish/llms/simienv/lib/python3.11/site-packages (from pandas->llama-index-core<0.11.0,>=0.10.1->llama-index-storage-docstore-redis) (2.9.0.post0)\n",
      "Requirement already satisfied: pytz>=2020.1 in /home/jellyfish/llms/simienv/lib/python3.11/site-packages (from pandas->llama-index-core<0.11.0,>=0.10.1->llama-index-storage-docstore-redis) (2024.1)\n",
      "Requirement already satisfied: tzdata>=2022.7 in /home/jellyfish/llms/simienv/lib/python3.11/site-packages (from pandas->llama-index-core<0.11.0,>=0.10.1->llama-index-storage-docstore-redis) (2024.1)\n",
      "Requirement already satisfied: packaging>=17.0 in /home/jellyfish/llms/simienv/lib/python3.11/site-packages (from marshmallow<4.0.0,>=3.18.0->dataclasses-json->llama-index-core<0.11.0,>=0.10.1->llama-index-storage-docstore-redis) (23.2)\n",
      "Requirement already satisfied: annotated-types>=0.4.0 in /home/jellyfish/llms/simienv/lib/python3.11/site-packages (from pydantic>=1.10->llamaindex-py-client<0.2.0,>=0.1.18->llama-index-core<0.11.0,>=0.10.1->llama-index-storage-docstore-redis) (0.6.0)\n",
      "Requirement already satisfied: pydantic-core==2.16.3 in /home/jellyfish/llms/simienv/lib/python3.11/site-packages (from pydantic>=1.10->llamaindex-py-client<0.2.0,>=0.1.18->llama-index-core<0.11.0,>=0.10.1->llama-index-storage-docstore-redis) (2.16.3)\n",
      "Requirement already satisfied: six>=1.5 in /home/jellyfish/llms/simienv/lib/python3.11/site-packages (from python-dateutil>=2.8.2->pandas->llama-index-core<0.11.0,>=0.10.1->llama-index-storage-docstore-redis) (1.16.0)\n",
      "Downloading llama_index_storage_docstore_redis-0.1.2-py3-none-any.whl (2.2 kB)\n",
      "Downloading llama_index_storage_kvstore_redis-0.1.5-py3-none-any.whl (3.2 kB)\n",
      "Installing collected packages: llama-index-storage-kvstore-redis, llama-index-storage-docstore-redis\n",
      "Successfully installed llama-index-storage-docstore-redis-0.1.2 llama-index-storage-kvstore-redis-0.1.5\n",
      "Note: you may need to restart the kernel to use updated packages.\n",
      "Collecting llama-index-storage-index-store-redis\n",
      "  Downloading llama_index_storage_index_store_redis-0.1.2-py3-none-any.whl.metadata (740 bytes)\n",
      "Requirement already satisfied: llama-index-core<0.11.0,>=0.10.1 in /home/jellyfish/llms/simienv/lib/python3.11/site-packages (from llama-index-storage-index-store-redis) (0.10.35.post1)\n",
      "Requirement already satisfied: llama-index-storage-kvstore-redis<0.2.0,>=0.1.1 in /home/jellyfish/llms/simienv/lib/python3.11/site-packages (from llama-index-storage-index-store-redis) (0.1.5)\n",
      "Requirement already satisfied: PyYAML>=6.0.1 in /home/jellyfish/llms/simienv/lib/python3.11/site-packages (from llama-index-core<0.11.0,>=0.10.1->llama-index-storage-index-store-redis) (6.0.1)\n",
      "Requirement already satisfied: SQLAlchemy>=1.4.49 in /home/jellyfish/llms/simienv/lib/python3.11/site-packages (from SQLAlchemy[asyncio]>=1.4.49->llama-index-core<0.11.0,>=0.10.1->llama-index-storage-index-store-redis) (2.0.28)\n",
      "Requirement already satisfied: aiohttp<4.0.0,>=3.8.6 in /home/jellyfish/llms/simienv/lib/python3.11/site-packages (from llama-index-core<0.11.0,>=0.10.1->llama-index-storage-index-store-redis) (3.9.3)\n",
      "Requirement already satisfied: dataclasses-json in /home/jellyfish/llms/simienv/lib/python3.11/site-packages (from llama-index-core<0.11.0,>=0.10.1->llama-index-storage-index-store-redis) (0.6.4)\n",
      "Requirement already satisfied: deprecated>=1.2.9.3 in /home/jellyfish/llms/simienv/lib/python3.11/site-packages (from llama-index-core<0.11.0,>=0.10.1->llama-index-storage-index-store-redis) (1.2.14)\n",
      "Requirement already satisfied: dirtyjson<2.0.0,>=1.0.8 in /home/jellyfish/llms/simienv/lib/python3.11/site-packages (from llama-index-core<0.11.0,>=0.10.1->llama-index-storage-index-store-redis) (1.0.8)\n",
      "Requirement already satisfied: fsspec>=2023.5.0 in /home/jellyfish/llms/simienv/lib/python3.11/site-packages (from llama-index-core<0.11.0,>=0.10.1->llama-index-storage-index-store-redis) (2024.2.0)\n",
      "Requirement already satisfied: httpx in /home/jellyfish/llms/simienv/lib/python3.11/site-packages (from llama-index-core<0.11.0,>=0.10.1->llama-index-storage-index-store-redis) (0.27.0)\n",
      "Requirement already satisfied: llamaindex-py-client<0.2.0,>=0.1.18 in /home/jellyfish/llms/simienv/lib/python3.11/site-packages (from llama-index-core<0.11.0,>=0.10.1->llama-index-storage-index-store-redis) (0.1.19)\n",
      "Requirement already satisfied: nest-asyncio<2.0.0,>=1.5.8 in /home/jellyfish/llms/simienv/lib/python3.11/site-packages (from llama-index-core<0.11.0,>=0.10.1->llama-index-storage-index-store-redis) (1.6.0)\n",
      "Requirement already satisfied: networkx>=3.0 in /home/jellyfish/llms/simienv/lib/python3.11/site-packages (from llama-index-core<0.11.0,>=0.10.1->llama-index-storage-index-store-redis) (3.2.1)\n",
      "Requirement already satisfied: nltk<4.0.0,>=3.8.1 in /home/jellyfish/llms/simienv/lib/python3.11/site-packages (from llama-index-core<0.11.0,>=0.10.1->llama-index-storage-index-store-redis) (3.8.1)\n",
      "Requirement already satisfied: numpy in /home/jellyfish/llms/simienv/lib/python3.11/site-packages (from llama-index-core<0.11.0,>=0.10.1->llama-index-storage-index-store-redis) (1.26.4)\n",
      "Requirement already satisfied: openai>=1.1.0 in /home/jellyfish/llms/simienv/lib/python3.11/site-packages (from llama-index-core<0.11.0,>=0.10.1->llama-index-storage-index-store-redis) (1.16.1)\n",
      "Requirement already satisfied: pandas in /home/jellyfish/llms/simienv/lib/python3.11/site-packages (from llama-index-core<0.11.0,>=0.10.1->llama-index-storage-index-store-redis) (2.2.1)\n",
      "Requirement already satisfied: pillow>=9.0.0 in /home/jellyfish/llms/simienv/lib/python3.11/site-packages (from llama-index-core<0.11.0,>=0.10.1->llama-index-storage-index-store-redis) (10.2.0)\n",
      "Requirement already satisfied: requests>=2.31.0 in /home/jellyfish/llms/simienv/lib/python3.11/site-packages (from llama-index-core<0.11.0,>=0.10.1->llama-index-storage-index-store-redis) (2.31.0)\n",
      "Requirement already satisfied: tenacity<9.0.0,>=8.2.0 in /home/jellyfish/llms/simienv/lib/python3.11/site-packages (from llama-index-core<0.11.0,>=0.10.1->llama-index-storage-index-store-redis) (8.2.3)\n",
      "Requirement already satisfied: tiktoken>=0.3.3 in /home/jellyfish/llms/simienv/lib/python3.11/site-packages (from llama-index-core<0.11.0,>=0.10.1->llama-index-storage-index-store-redis) (0.6.0)\n",
      "Requirement already satisfied: tqdm<5.0.0,>=4.66.1 in /home/jellyfish/llms/simienv/lib/python3.11/site-packages (from llama-index-core<0.11.0,>=0.10.1->llama-index-storage-index-store-redis) (4.66.2)\n",
      "Requirement already satisfied: typing-extensions>=4.5.0 in /home/jellyfish/llms/simienv/lib/python3.11/site-packages (from llama-index-core<0.11.0,>=0.10.1->llama-index-storage-index-store-redis) (4.10.0)\n",
      "Requirement already satisfied: typing-inspect>=0.8.0 in /home/jellyfish/llms/simienv/lib/python3.11/site-packages (from llama-index-core<0.11.0,>=0.10.1->llama-index-storage-index-store-redis) (0.9.0)\n",
      "Requirement already satisfied: wrapt in /home/jellyfish/llms/simienv/lib/python3.11/site-packages (from llama-index-core<0.11.0,>=0.10.1->llama-index-storage-index-store-redis) (1.16.0)\n",
      "Requirement already satisfied: redis<6.0.0,>=5.0.1 in /home/jellyfish/llms/simienv/lib/python3.11/site-packages (from llama-index-storage-kvstore-redis<0.2.0,>=0.1.1->llama-index-storage-index-store-redis) (5.0.4)\n",
      "Requirement already satisfied: aiosignal>=1.1.2 in /home/jellyfish/llms/simienv/lib/python3.11/site-packages (from aiohttp<4.0.0,>=3.8.6->llama-index-core<0.11.0,>=0.10.1->llama-index-storage-index-store-redis) (1.3.1)\n",
      "Requirement already satisfied: attrs>=17.3.0 in /home/jellyfish/llms/simienv/lib/python3.11/site-packages (from aiohttp<4.0.0,>=3.8.6->llama-index-core<0.11.0,>=0.10.1->llama-index-storage-index-store-redis) (23.2.0)\n",
      "Requirement already satisfied: frozenlist>=1.1.1 in /home/jellyfish/llms/simienv/lib/python3.11/site-packages (from aiohttp<4.0.0,>=3.8.6->llama-index-core<0.11.0,>=0.10.1->llama-index-storage-index-store-redis) (1.4.1)\n",
      "Requirement already satisfied: multidict<7.0,>=4.5 in /home/jellyfish/llms/simienv/lib/python3.11/site-packages (from aiohttp<4.0.0,>=3.8.6->llama-index-core<0.11.0,>=0.10.1->llama-index-storage-index-store-redis) (6.0.5)\n",
      "Requirement already satisfied: yarl<2.0,>=1.0 in /home/jellyfish/llms/simienv/lib/python3.11/site-packages (from aiohttp<4.0.0,>=3.8.6->llama-index-core<0.11.0,>=0.10.1->llama-index-storage-index-store-redis) (1.9.4)\n",
      "Requirement already satisfied: pydantic>=1.10 in /home/jellyfish/llms/simienv/lib/python3.11/site-packages (from llamaindex-py-client<0.2.0,>=0.1.18->llama-index-core<0.11.0,>=0.10.1->llama-index-storage-index-store-redis) (2.6.4)\n",
      "Requirement already satisfied: anyio in /home/jellyfish/llms/simienv/lib/python3.11/site-packages (from httpx->llama-index-core<0.11.0,>=0.10.1->llama-index-storage-index-store-redis) (4.3.0)\n",
      "Requirement already satisfied: certifi in /home/jellyfish/llms/simienv/lib/python3.11/site-packages (from httpx->llama-index-core<0.11.0,>=0.10.1->llama-index-storage-index-store-redis) (2024.2.2)\n",
      "Requirement already satisfied: httpcore==1.* in /home/jellyfish/llms/simienv/lib/python3.11/site-packages (from httpx->llama-index-core<0.11.0,>=0.10.1->llama-index-storage-index-store-redis) (1.0.4)\n",
      "Requirement already satisfied: idna in /home/jellyfish/llms/simienv/lib/python3.11/site-packages (from httpx->llama-index-core<0.11.0,>=0.10.1->llama-index-storage-index-store-redis) (3.6)\n",
      "Requirement already satisfied: sniffio in /home/jellyfish/llms/simienv/lib/python3.11/site-packages (from httpx->llama-index-core<0.11.0,>=0.10.1->llama-index-storage-index-store-redis) (1.3.1)\n",
      "Requirement already satisfied: h11<0.15,>=0.13 in /home/jellyfish/llms/simienv/lib/python3.11/site-packages (from httpcore==1.*->httpx->llama-index-core<0.11.0,>=0.10.1->llama-index-storage-index-store-redis) (0.14.0)\n",
      "Requirement already satisfied: click in /home/jellyfish/llms/simienv/lib/python3.11/site-packages (from nltk<4.0.0,>=3.8.1->llama-index-core<0.11.0,>=0.10.1->llama-index-storage-index-store-redis) (8.1.7)\n",
      "Requirement already satisfied: joblib in /home/jellyfish/llms/simienv/lib/python3.11/site-packages (from nltk<4.0.0,>=3.8.1->llama-index-core<0.11.0,>=0.10.1->llama-index-storage-index-store-redis) (1.3.2)\n",
      "Requirement already satisfied: regex>=2021.8.3 in /home/jellyfish/llms/simienv/lib/python3.11/site-packages (from nltk<4.0.0,>=3.8.1->llama-index-core<0.11.0,>=0.10.1->llama-index-storage-index-store-redis) (2023.12.25)\n",
      "Requirement already satisfied: distro<2,>=1.7.0 in /home/jellyfish/llms/simienv/lib/python3.11/site-packages (from openai>=1.1.0->llama-index-core<0.11.0,>=0.10.1->llama-index-storage-index-store-redis) (1.9.0)\n",
      "Requirement already satisfied: charset-normalizer<4,>=2 in /home/jellyfish/llms/simienv/lib/python3.11/site-packages (from requests>=2.31.0->llama-index-core<0.11.0,>=0.10.1->llama-index-storage-index-store-redis) (3.3.2)\n",
      "Requirement already satisfied: urllib3<3,>=1.21.1 in /home/jellyfish/llms/simienv/lib/python3.11/site-packages (from requests>=2.31.0->llama-index-core<0.11.0,>=0.10.1->llama-index-storage-index-store-redis) (2.0.7)\n",
      "Requirement already satisfied: greenlet!=0.4.17 in /home/jellyfish/llms/simienv/lib/python3.11/site-packages (from SQLAlchemy>=1.4.49->SQLAlchemy[asyncio]>=1.4.49->llama-index-core<0.11.0,>=0.10.1->llama-index-storage-index-store-redis) (3.0.3)\n",
      "Requirement already satisfied: mypy-extensions>=0.3.0 in /home/jellyfish/llms/simienv/lib/python3.11/site-packages (from typing-inspect>=0.8.0->llama-index-core<0.11.0,>=0.10.1->llama-index-storage-index-store-redis) (1.0.0)\n",
      "Requirement already satisfied: marshmallow<4.0.0,>=3.18.0 in /home/jellyfish/llms/simienv/lib/python3.11/site-packages (from dataclasses-json->llama-index-core<0.11.0,>=0.10.1->llama-index-storage-index-store-redis) (3.21.1)\n",
      "Requirement already satisfied: python-dateutil>=2.8.2 in /home/jellyfish/llms/simienv/lib/python3.11/site-packages (from pandas->llama-index-core<0.11.0,>=0.10.1->llama-index-storage-index-store-redis) (2.9.0.post0)\n",
      "Requirement already satisfied: pytz>=2020.1 in /home/jellyfish/llms/simienv/lib/python3.11/site-packages (from pandas->llama-index-core<0.11.0,>=0.10.1->llama-index-storage-index-store-redis) (2024.1)\n",
      "Requirement already satisfied: tzdata>=2022.7 in /home/jellyfish/llms/simienv/lib/python3.11/site-packages (from pandas->llama-index-core<0.11.0,>=0.10.1->llama-index-storage-index-store-redis) (2024.1)\n",
      "Requirement already satisfied: packaging>=17.0 in /home/jellyfish/llms/simienv/lib/python3.11/site-packages (from marshmallow<4.0.0,>=3.18.0->dataclasses-json->llama-index-core<0.11.0,>=0.10.1->llama-index-storage-index-store-redis) (23.2)\n",
      "Requirement already satisfied: annotated-types>=0.4.0 in /home/jellyfish/llms/simienv/lib/python3.11/site-packages (from pydantic>=1.10->llamaindex-py-client<0.2.0,>=0.1.18->llama-index-core<0.11.0,>=0.10.1->llama-index-storage-index-store-redis) (0.6.0)\n",
      "Requirement already satisfied: pydantic-core==2.16.3 in /home/jellyfish/llms/simienv/lib/python3.11/site-packages (from pydantic>=1.10->llamaindex-py-client<0.2.0,>=0.1.18->llama-index-core<0.11.0,>=0.10.1->llama-index-storage-index-store-redis) (2.16.3)\n",
      "Requirement already satisfied: six>=1.5 in /home/jellyfish/llms/simienv/lib/python3.11/site-packages (from python-dateutil>=2.8.2->pandas->llama-index-core<0.11.0,>=0.10.1->llama-index-storage-index-store-redis) (1.16.0)\n",
      "Downloading llama_index_storage_index_store_redis-0.1.2-py3-none-any.whl (2.2 kB)\n",
      "Installing collected packages: llama-index-storage-index-store-redis\n",
      "Successfully installed llama-index-storage-index-store-redis-0.1.2\n",
      "Note: you may need to restart the kernel to use updated packages.\n"
     ]
    }
   ],
   "source": [
    "# %pip install -U llama-index llama-parse llama-hub\n",
    "# %pip install llama-index-vector-stores-redis\n",
    "# %pip install llama-index-storage-chat-store-redis\n",
    "# %pip install llama-index-embeddings-cohore\n",
    "# %pip install llama-index-embeddings-huggingface\n",
    "# %pip install llama-index-storage-docstore-redis\n",
    "# %pip install llama-index-storage-index-store-redis"
   ]
  },
  {
   "cell_type": "code",
   "execution_count": 2,
   "metadata": {},
   "outputs": [],
   "source": [
    "%load_ext autoreload\n",
    "%autoreload 2"
   ]
  },
  {
   "cell_type": "markdown",
   "metadata": {},
   "source": [
    "Setup and Download Data"
   ]
  },
  {
   "cell_type": "code",
   "execution_count": 19,
   "metadata": {},
   "outputs": [
    {
     "name": "stdout",
     "output_type": "stream",
     "text": [
      "/bin/bash: line 1: redis-stack-server: command not found\n"
     ]
    }
   ],
   "source": [
    "# sudo apt install lsb-release curl gpg\n",
    "# curl -fsSL https://packages.redis.io/gpg | sudo gpg --dearmor -o /usr/share/keyrings/redis-archive-keyring.gpg\n",
    "\n",
    "# echo \"deb [signed-by=/usr/share/keyrings/redis-archive-keyring.gpg] https://packages.redis.io/deb $(lsb_release -cs) main\" | sudo tee /etc/apt/sources.list.d/redis.list\n",
    "\n",
    "# sudo apt-get update\n",
    "# !sudo apt-get install redis-stack-server  > /dev/null 2>&1\n",
    "# redis-stack-server --daemonize yes"
   ]
  },
  {
   "cell_type": "code",
   "execution_count": 1,
   "metadata": {},
   "outputs": [],
   "source": [
    "REDIS_HOST = \"127.0.0.1\"\n",
    "REDIS_PORT = 6379\n",
    "REDIS_PASSWORD = \"\"\n"
   ]
  },
  {
   "cell_type": "code",
   "execution_count": 3,
   "metadata": {},
   "outputs": [],
   "source": [
    "import os\n",
    "from dotenv import load_dotenv\n",
    "load_dotenv()\n",
    "\n",
    "\n",
    "os.environ[\"LLAMA_CLOUD_API_KEY\"] = os.getenv(\"Llama_Parser_Key\")\n",
    "os.environ[\"CO_API_KEY\"] = \"YOUR API KEY\""
   ]
  },
  {
   "cell_type": "code",
   "execution_count": 4,
   "metadata": {},
   "outputs": [],
   "source": [
    "import nest_asyncio\n",
    "nest_asyncio.apply()"
   ]
  },
  {
   "cell_type": "code",
   "execution_count": 2,
   "metadata": {},
   "outputs": [
    {
     "name": "stdout",
     "output_type": "stream",
     "text": [
      "--2024-05-15 10:42:16--  https://raw.githubusercontent.com/redis-developer/LLM-Document-Chat/main/docs/2022-chevrolet-colorado-ebrochure.pdf\n",
      "Resolving raw.githubusercontent.com (raw.githubusercontent.com)... 185.199.111.133, 185.199.108.133, 185.199.110.133, ...\n",
      "Connecting to raw.githubusercontent.com (raw.githubusercontent.com)|185.199.111.133|:443... connected.\n",
      "HTTP request sent, awaiting response... 200 OK\n",
      "Length: 3566101 (3.4M) [application/octet-stream]\n",
      "Saving to: ‘data/2022-chevrolet-colorado-ebrochure.pdf’\n",
      "\n",
      "data/2022-chevrolet 100%[===================>]   3.40M  17.3MB/s    in 0.2s    \n",
      "\n",
      "2024-05-15 10:42:17 (17.3 MB/s) - ‘data/2022-chevrolet-colorado-ebrochure.pdf’ saved [3566101/3566101]\n",
      "\n"
     ]
    }
   ],
   "source": [
    "!mkdir -p 'data/'\n",
    "!wget 'https://raw.githubusercontent.com/redis-developer/LLM-Document-Chat/main/docs/2022-chevrolet-colorado-ebrochure.pdf' -O 'data/2022-chevrolet-colorado-ebrochure.pdf'\n"
   ]
  },
  {
   "cell_type": "code",
   "execution_count": 5,
   "metadata": {},
   "outputs": [
    {
     "name": "stderr",
     "output_type": "stream",
     "text": [
      "/home/jellyfish/llms/simienv/lib/python3.11/site-packages/tqdm/auto.py:21: TqdmWarning: IProgress not found. Please update jupyter and ipywidgets. See https://ipywidgets.readthedocs.io/en/stable/user_install.html\n",
      "  from .autonotebook import tqdm as notebook_tqdm\n"
     ]
    }
   ],
   "source": [
    "from llama_parse import LlamaParse\n",
    "\n",
    "from llama_index.core import SimpleDirectoryReader\n",
    "\n",
    "parser = LlamaParse(\n",
    "    result_type= \"markdown\"\n",
    ")\n"
   ]
  },
  {
   "cell_type": "code",
   "execution_count": 7,
   "metadata": {},
   "outputs": [],
   "source": [
    "file_extractor = {\".pdf\":parser}"
   ]
  },
  {
   "cell_type": "code",
   "execution_count": 8,
   "metadata": {},
   "outputs": [],
   "source": [
    "reader = SimpleDirectoryReader(\"./data\",file_extractor=file_extractor)"
   ]
  },
  {
   "cell_type": "code",
   "execution_count": 9,
   "metadata": {},
   "outputs": [
    {
     "name": "stdout",
     "output_type": "stream",
     "text": [
      "Started parsing the file under job_id e8e50791-a5ce-41ca-8760-4945a5af8ffc\n"
     ]
    }
   ],
   "source": [
    "documents = reader.load_data()"
   ]
  },
  {
   "cell_type": "code",
   "execution_count": 11,
   "metadata": {},
   "outputs": [],
   "source": [
    "from llama_index.embeddings.huggingface import HuggingFaceEmbedding\n",
    "from llama_index.core.ingestion import DocstoreStrategy, IngestionPipeline, IngestionCache\n",
    "from llama_index.storage.kvstore.redis import RedisKVStore as RedisCache\n",
    "from llama_index.storage.docstore.redis import RedisDocumentStore\n",
    "from llama_index.core.node_parser import SentenceSplitter\n",
    "from llama_index.vector_stores.redis import RedisVectorStore\n",
    "from redisvl.schema import IndexSchema"
   ]
  },
  {
   "cell_type": "code",
   "execution_count": 12,
   "metadata": {},
   "outputs": [],
   "source": [
    "embed_model = HuggingFaceEmbedding(text_instruction = \"search_document\")"
   ]
  },
  {
   "cell_type": "code",
   "execution_count": 13,
   "metadata": {},
   "outputs": [],
   "source": [
    "custom_schema = IndexSchema.from_dict(\n",
    "    {\n",
    "        \"index\":{\n",
    "            \"name\":\"chevy-colorado\",\n",
    "            \"prefix\":\"pdf:chunk\",\n",
    "            \"key_separator\": \":\"\n",
    "        },\n",
    "        \"fields\":[\n",
    "            {\"type\":\"tag\",\"name\":\"id\"},\n",
    "            {\"type\":\"tag\",\"name\":\"doc_id\"},\n",
    "            {\"type\":\"text\",\"name\":\"text\"},\n",
    "            {\n",
    "                \"type\":\"vector\",\n",
    "                \"name\": \"vector\",\n",
    "                \"attrs\":{\n",
    "                    \"dims\":1024,\n",
    "                    \"algorithm\":\"hnsw\",\n",
    "                    \"distance_metric\":\"cosine\"\n",
    "                },\n",
    "            },\n",
    "        ]\n",
    "    }\n",
    ")"
   ]
  },
  {
   "cell_type": "code",
   "execution_count": 14,
   "metadata": {},
   "outputs": [
    {
     "data": {
      "text/plain": [
       "IndexSchema(index=IndexInfo(name='chevy-colorado', prefix='pdf:chunk', key_separator=':', storage_type=<StorageType.HASH: 'hash'>), fields={'id': TagField(name='id', type='tag', path=None, attrs=TagFieldAttributes(sortable=False, separator=',', case_sensitive=False, withsuffixtrie=False)), 'doc_id': TagField(name='doc_id', type='tag', path=None, attrs=TagFieldAttributes(sortable=False, separator=',', case_sensitive=False, withsuffixtrie=False)), 'text': TextField(name='text', type='text', path=None, attrs=TextFieldAttributes(sortable=False, weight=1, no_stem=False, withsuffixtrie=False, phonetic_matcher=None)), 'vector': HNSWVectorField(name='vector', type='vector', path=None, attrs=HNSWVectorFieldAttributes(dims=1024, algorithm=<VectorIndexAlgorithm.HNSW: 'HNSW'>, datatype=<VectorDataType.FLOAT32: 'FLOAT32'>, distance_metric=<VectorDistanceMetric.COSINE: 'COSINE'>, initial_cap=None, m=16, ef_construction=200, ef_runtime=10, epsilon=0.01))}, version='0.1.0')"
      ]
     },
     "execution_count": 14,
     "metadata": {},
     "output_type": "execute_result"
    }
   ],
   "source": [
    "custom_schema"
   ]
  },
  {
   "cell_type": "code",
   "execution_count": 32,
   "metadata": {},
   "outputs": [
    {
     "ename": "ValueError",
     "evalue": "Required Redis database module searchlight with version >= 20600 not installed. Refer to Redis Stack documentation: https://redis.io/docs/stack/",
     "output_type": "error",
     "traceback": [
      "\u001b[0;31m---------------------------------------------------------------------------\u001b[0m",
      "\u001b[0;31mValueError\u001b[0m                                Traceback (most recent call last)",
      "Cell \u001b[0;32mIn[32], line 9\u001b[0m\n\u001b[1;32m      1\u001b[0m vector_index_pipeline \u001b[38;5;241m=\u001b[39m IngestionPipeline(\n\u001b[1;32m      2\u001b[0m     transformations\u001b[38;5;241m=\u001b[39m[\n\u001b[1;32m      3\u001b[0m         SentenceSplitter(),\n\u001b[1;32m      4\u001b[0m         embed_model,\n\u001b[1;32m      5\u001b[0m     ],\n\u001b[1;32m      6\u001b[0m     docstore\u001b[38;5;241m=\u001b[39m RedisDocumentStore\u001b[38;5;241m.\u001b[39mfrom_host_and_port(\n\u001b[1;32m      7\u001b[0m         REDIS_HOST, REDIS_PORT, namespace \u001b[38;5;241m=\u001b[39m \u001b[38;5;124m\"\u001b[39m\u001b[38;5;124mdoc-store\u001b[39m\u001b[38;5;124m\"\u001b[39m\n\u001b[1;32m      8\u001b[0m     ),\n\u001b[0;32m----> 9\u001b[0m     vector_store\u001b[38;5;241m=\u001b[39m \u001b[43mRedisVectorStore\u001b[49m\u001b[43m(\u001b[49m\n\u001b[1;32m     10\u001b[0m \u001b[43m        \u001b[49m\u001b[43mschema\u001b[49m\u001b[43m \u001b[49m\u001b[38;5;241;43m=\u001b[39;49m\u001b[43m \u001b[49m\u001b[43mcustom_schema\u001b[49m\u001b[43m,\u001b[49m\n\u001b[1;32m     11\u001b[0m \u001b[43m        \u001b[49m\u001b[43mredis_url\u001b[49m\u001b[43m \u001b[49m\u001b[38;5;241;43m=\u001b[39;49m\u001b[43m \u001b[49m\u001b[38;5;124;43mf\u001b[39;49m\u001b[38;5;124;43m\"\u001b[39;49m\u001b[38;5;124;43mredis://\u001b[39;49m\u001b[38;5;132;43;01m{\u001b[39;49;00m\u001b[43mREDIS_HOST\u001b[49m\u001b[38;5;132;43;01m}\u001b[39;49;00m\u001b[38;5;124;43m:\u001b[39;49m\u001b[38;5;132;43;01m{\u001b[39;49;00m\u001b[43mREDIS_PORT\u001b[49m\u001b[38;5;132;43;01m}\u001b[39;49;00m\u001b[38;5;124;43m\"\u001b[39;49m\n\u001b[1;32m     12\u001b[0m \u001b[43m    \u001b[49m\u001b[43m)\u001b[49m,\n\u001b[1;32m     13\u001b[0m     cache\u001b[38;5;241m=\u001b[39m IngestionCache(\n\u001b[1;32m     14\u001b[0m         cache\u001b[38;5;241m=\u001b[39m RedisCache\u001b[38;5;241m.\u001b[39mfrom_host_and_port(REDIS_HOST, REDIS_PORT),\n\u001b[1;32m     15\u001b[0m         collection\u001b[38;5;241m=\u001b[39m \u001b[38;5;124m\"\u001b[39m\u001b[38;5;124mdoc-cache\u001b[39m\u001b[38;5;124m\"\u001b[39m\n\u001b[1;32m     16\u001b[0m     ),\n\u001b[1;32m     17\u001b[0m     docstore_strategy\u001b[38;5;241m=\u001b[39m DocstoreStrategy\u001b[38;5;241m.\u001b[39mUPSERTS,\n\u001b[1;32m     18\u001b[0m )\n",
      "File \u001b[0;32m~/llms/simienv/lib/python3.11/site-packages/llama_index/vector_stores/redis/base.py:145\u001b[0m, in \u001b[0;36mRedisVectorStore.__init__\u001b[0;34m(self, schema, redis_client, redis_url, overwrite, return_fields, **kwargs)\u001b[0m\n\u001b[1;32m    143\u001b[0m     \u001b[38;5;28mself\u001b[39m\u001b[38;5;241m.\u001b[39m_index\u001b[38;5;241m.\u001b[39mset_client(redis_client)\n\u001b[1;32m    144\u001b[0m \u001b[38;5;28;01melif\u001b[39;00m redis_url:\n\u001b[0;32m--> 145\u001b[0m     \u001b[38;5;28;43mself\u001b[39;49m\u001b[38;5;241;43m.\u001b[39;49m\u001b[43m_index\u001b[49m\u001b[38;5;241;43m.\u001b[39;49m\u001b[43mconnect\u001b[49m\u001b[43m(\u001b[49m\u001b[43mredis_url\u001b[49m\u001b[43m)\u001b[49m\n\u001b[1;32m    146\u001b[0m \u001b[38;5;28;01melse\u001b[39;00m:\n\u001b[1;32m    147\u001b[0m     \u001b[38;5;28;01mraise\u001b[39;00m \u001b[38;5;167;01mValueError\u001b[39;00m(\n\u001b[1;32m    148\u001b[0m         \u001b[38;5;124m\"\u001b[39m\u001b[38;5;124mFailed to connect to Redis. Must provide a valid redis client or url\u001b[39m\u001b[38;5;124m\"\u001b[39m\n\u001b[1;32m    149\u001b[0m     )\n",
      "File \u001b[0;32m~/llms/simienv/lib/python3.11/site-packages/redisvl/index/index.py:354\u001b[0m, in \u001b[0;36mSearchIndex.connect\u001b[0;34m(self, redis_url, **kwargs)\u001b[0m\n\u001b[1;32m    331\u001b[0m \u001b[38;5;250m\u001b[39m\u001b[38;5;124;03m\"\"\"Connect to a Redis instance using the provided `redis_url`, falling\u001b[39;00m\n\u001b[1;32m    332\u001b[0m \u001b[38;5;124;03mback to the `REDIS_URL` environment variable (if available).\u001b[39;00m\n\u001b[1;32m    333\u001b[0m \n\u001b[0;32m   (...)\u001b[0m\n\u001b[1;32m    351\u001b[0m \n\u001b[1;32m    352\u001b[0m \u001b[38;5;124;03m\"\"\"\u001b[39;00m\n\u001b[1;32m    353\u001b[0m client \u001b[38;5;241m=\u001b[39m RedisConnectionFactory\u001b[38;5;241m.\u001b[39mconnect(redis_url, use_async\u001b[38;5;241m=\u001b[39m\u001b[38;5;28;01mFalse\u001b[39;00m, \u001b[38;5;241m*\u001b[39m\u001b[38;5;241m*\u001b[39mkwargs)\n\u001b[0;32m--> 354\u001b[0m \u001b[38;5;28;01mreturn\u001b[39;00m \u001b[38;5;28;43mself\u001b[39;49m\u001b[38;5;241;43m.\u001b[39;49m\u001b[43mset_client\u001b[49m\u001b[43m(\u001b[49m\u001b[43mclient\u001b[49m\u001b[43m)\u001b[49m\n",
      "File \u001b[0;32m~/llms/simienv/lib/python3.11/site-packages/redisvl/index/index.py:92\u001b[0m, in \u001b[0;36mcheck_modules_present.<locals>.decorator.<locals>.wrapper\u001b[0;34m(self, *args, **kwargs)\u001b[0m\n\u001b[1;32m     89\u001b[0m \u001b[38;5;129m@wraps\u001b[39m(func)\n\u001b[1;32m     90\u001b[0m \u001b[38;5;28;01mdef\u001b[39;00m \u001b[38;5;21mwrapper\u001b[39m(\u001b[38;5;28mself\u001b[39m, \u001b[38;5;241m*\u001b[39margs, \u001b[38;5;241m*\u001b[39m\u001b[38;5;241m*\u001b[39mkwargs):\n\u001b[1;32m     91\u001b[0m     result \u001b[38;5;241m=\u001b[39m func(\u001b[38;5;28mself\u001b[39m, \u001b[38;5;241m*\u001b[39margs, \u001b[38;5;241m*\u001b[39m\u001b[38;5;241m*\u001b[39mkwargs)\n\u001b[0;32m---> 92\u001b[0m     \u001b[43mRedisConnectionFactory\u001b[49m\u001b[38;5;241;43m.\u001b[39;49m\u001b[43mvalidate_redis_modules\u001b[49m\u001b[43m(\u001b[49m\u001b[38;5;28;43mself\u001b[39;49m\u001b[38;5;241;43m.\u001b[39;49m\u001b[43m_redis_client\u001b[49m\u001b[43m)\u001b[49m\n\u001b[1;32m     93\u001b[0m     \u001b[38;5;28;01mreturn\u001b[39;00m result\n",
      "File \u001b[0;32m~/llms/simienv/lib/python3.11/site-packages/redisvl/redis/connection.py:122\u001b[0m, in \u001b[0;36mRedisConnectionFactory.validate_redis_modules\u001b[0;34m(client, redis_required_modules)\u001b[0m\n\u001b[1;32m    110\u001b[0m \u001b[38;5;129m@staticmethod\u001b[39m\n\u001b[1;32m    111\u001b[0m \u001b[38;5;28;01mdef\u001b[39;00m \u001b[38;5;21mvalidate_redis_modules\u001b[39m(\n\u001b[1;32m    112\u001b[0m     client: Redis, redis_required_modules: Optional[List[Dict[\u001b[38;5;28mstr\u001b[39m, Any]]] \u001b[38;5;241m=\u001b[39m \u001b[38;5;28;01mNone\u001b[39;00m\n\u001b[1;32m    113\u001b[0m ) \u001b[38;5;241m-\u001b[39m\u001b[38;5;241m>\u001b[39m \u001b[38;5;28;01mNone\u001b[39;00m:\n\u001b[1;32m    114\u001b[0m \u001b[38;5;250m    \u001b[39m\u001b[38;5;124;03m\"\"\"Validates if the required Redis modules are installed.\u001b[39;00m\n\u001b[1;32m    115\u001b[0m \n\u001b[1;32m    116\u001b[0m \u001b[38;5;124;03m    Args:\u001b[39;00m\n\u001b[0;32m   (...)\u001b[0m\n\u001b[1;32m    120\u001b[0m \u001b[38;5;124;03m        ValueError: If required Redis modules are not installed.\u001b[39;00m\n\u001b[1;32m    121\u001b[0m \u001b[38;5;124;03m    \"\"\"\u001b[39;00m\n\u001b[0;32m--> 122\u001b[0m     \u001b[43mRedisConnectionFactory\u001b[49m\u001b[38;5;241;43m.\u001b[39;49m\u001b[43m_validate_redis_modules\u001b[49m\u001b[43m(\u001b[49m\n\u001b[1;32m    123\u001b[0m \u001b[43m        \u001b[49m\u001b[43mconvert_bytes\u001b[49m\u001b[43m(\u001b[49m\u001b[43mclient\u001b[49m\u001b[38;5;241;43m.\u001b[39;49m\u001b[43mmodule_list\u001b[49m\u001b[43m(\u001b[49m\u001b[43m)\u001b[49m\u001b[43m)\u001b[49m\u001b[43m,\u001b[49m\u001b[43m \u001b[49m\u001b[43mredis_required_modules\u001b[49m\n\u001b[1;32m    124\u001b[0m \u001b[43m    \u001b[49m\u001b[43m)\u001b[49m\n",
      "File \u001b[0;32m~/llms/simienv/lib/python3.11/site-packages/redisvl/redis/connection.py:180\u001b[0m, in \u001b[0;36mRedisConnectionFactory._validate_redis_modules\u001b[0;34m(installed_modules, redis_required_modules)\u001b[0m\n\u001b[1;32m    177\u001b[0m         \u001b[38;5;28;01mif\u001b[39;00m \u001b[38;5;28mint\u001b[39m(installed_version) \u001b[38;5;241m>\u001b[39m\u001b[38;5;241m=\u001b[39m \u001b[38;5;28mint\u001b[39m(required_module[\u001b[38;5;124m\"\u001b[39m\u001b[38;5;124mver\u001b[39m\u001b[38;5;124m\"\u001b[39m]):  \u001b[38;5;66;03m# type: ignore\u001b[39;00m\n\u001b[1;32m    178\u001b[0m             \u001b[38;5;28;01mreturn\u001b[39;00m\n\u001b[0;32m--> 180\u001b[0m \u001b[38;5;28;01mraise\u001b[39;00m \u001b[38;5;167;01mValueError\u001b[39;00m(\n\u001b[1;32m    181\u001b[0m     \u001b[38;5;124mf\u001b[39m\u001b[38;5;124m\"\u001b[39m\u001b[38;5;124mRequired Redis database module \u001b[39m\u001b[38;5;132;01m{\u001b[39;00mrequired_module[\u001b[38;5;124m'\u001b[39m\u001b[38;5;124mname\u001b[39m\u001b[38;5;124m'\u001b[39m]\u001b[38;5;132;01m}\u001b[39;00m\u001b[38;5;124m with version >= \u001b[39m\u001b[38;5;132;01m{\u001b[39;00mrequired_module[\u001b[38;5;124m'\u001b[39m\u001b[38;5;124mver\u001b[39m\u001b[38;5;124m'\u001b[39m]\u001b[38;5;132;01m}\u001b[39;00m\u001b[38;5;124m not installed. \u001b[39m\u001b[38;5;124m\"\u001b[39m\n\u001b[1;32m    182\u001b[0m     \u001b[38;5;124m\"\u001b[39m\u001b[38;5;124mRefer to Redis Stack documentation: https://redis.io/docs/stack/\u001b[39m\u001b[38;5;124m\"\u001b[39m\n\u001b[1;32m    183\u001b[0m )\n",
      "\u001b[0;31mValueError\u001b[0m: Required Redis database module searchlight with version >= 20600 not installed. Refer to Redis Stack documentation: https://redis.io/docs/stack/"
     ]
    }
   ],
   "source": [
    "vector_index_pipeline = IngestionPipeline(\n",
    "    transformations=[\n",
    "        SentenceSplitter(),\n",
    "        embed_model,\n",
    "    ],\n",
    "    docstore= RedisDocumentStore.from_host_and_port(\n",
    "        REDIS_HOST, REDIS_PORT, namespace = \"doc-store\"\n",
    "    ),\n",
    "    vector_store= RedisVectorStore(\n",
    "        schema = custom_schema,\n",
    "        redis_url = f\"redis://{REDIS_HOST}:{REDIS_PORT}\"\n",
    "    ),\n",
    "    cache= IngestionCache(\n",
    "        cache= RedisCache.from_host_and_port(REDIS_HOST, REDIS_PORT),\n",
    "        collection= \"doc-cache\"\n",
    "    ),\n",
    "    docstore_strategy= DocstoreStrategy.UPSERTS,\n",
    ")"
   ]
  },
  {
   "cell_type": "code",
   "execution_count": null,
   "metadata": {},
   "outputs": [],
   "source": []
  }
 ],
 "metadata": {
  "kernelspec": {
   "display_name": "simienv",
   "language": "python",
   "name": "python3"
  },
  "language_info": {
   "codemirror_mode": {
    "name": "ipython",
    "version": 3
   },
   "file_extension": ".py",
   "mimetype": "text/x-python",
   "name": "python",
   "nbconvert_exporter": "python",
   "pygments_lexer": "ipython3",
   "version": "3.11.5"
  }
 },
 "nbformat": 4,
 "nbformat_minor": 2
}
