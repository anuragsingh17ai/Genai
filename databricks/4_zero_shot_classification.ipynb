{
 "cells": [
  {
   "cell_type": "code",
   "execution_count": 1,
   "metadata": {},
   "outputs": [
    {
     "name": "stderr",
     "output_type": "stream",
     "text": [
      "/home/jellyfish/llms/simienv/lib/python3.11/site-packages/tqdm/auto.py:21: TqdmWarning: IProgress not found. Please update jupyter and ipywidgets. See https://ipywidgets.readthedocs.io/en/stable/user_install.html\n",
      "  from .autonotebook import tqdm as notebook_tqdm\n"
     ]
    }
   ],
   "source": [
    "from transformers import pipeline\n",
    "import pandas as pd"
   ]
  },
  {
   "cell_type": "code",
   "execution_count": 2,
   "metadata": {},
   "outputs": [
    {
     "name": "stderr",
     "output_type": "stream",
     "text": [
      "/home/jellyfish/llms/simienv/lib/python3.11/site-packages/transformers/convert_slow_tokenizer.py:550: UserWarning: The sentencepiece tokenizer that you are converting to a fast tokenizer uses the byte fallback option which is not implemented in the fast tokenizers. In practice this means that the fast version of the tokenizer can produce unknown tokens whereas the sentencepiece version would have converted these unknown tokens into a sequence of byte tokens matching the original piece of text.\n",
      "  warnings.warn(\n"
     ]
    }
   ],
   "source": [
    "zero_shot_pipeline = pipeline(\n",
    "    task = 'zero-shot-classification',\n",
    "    model = 'cross-encoder/nli-deberta-v3-small',\n",
    "    model_kwargs={'cache_dir':'/home/jellyfish/llms/databricks/data'}\n",
    ")"
   ]
  },
  {
   "cell_type": "code",
   "execution_count": 20,
   "metadata": {},
   "outputs": [],
   "source": [
    "def categorize_artice(article:str) -> None:\n",
    "    \"\"\" \n",
    "        This helper function defines the categories (lablels) which the model must use to label articles.\n",
    "        Note that our model was Not fine-tunned to use these specific labels,\n",
    "        but it \"knows\" what the label mean from its more general training.\n",
    "\n",
    "        This funciton then prints out the predicted label alongside their confidence score\n",
    "    \"\"\"\n",
    "    results = zero_shot_pipeline(\n",
    "        article,  \n",
    "        candidate_labels = [\"politics\",\"sports\",\"science and technologies\",\"pop culture\",\"breaking news\"]\n",
    "    )\n",
    "\n",
    "    del results[\"sequence\"]\n",
    "\n",
    "    display(pd.DataFrame(results))"
   ]
  },
  {
   "cell_type": "code",
   "execution_count": 21,
   "metadata": {},
   "outputs": [
    {
     "data": {
      "text/html": [
       "<div>\n",
       "<style scoped>\n",
       "    .dataframe tbody tr th:only-of-type {\n",
       "        vertical-align: middle;\n",
       "    }\n",
       "\n",
       "    .dataframe tbody tr th {\n",
       "        vertical-align: top;\n",
       "    }\n",
       "\n",
       "    .dataframe thead th {\n",
       "        text-align: right;\n",
       "    }\n",
       "</style>\n",
       "<table border=\"1\" class=\"dataframe\">\n",
       "  <thead>\n",
       "    <tr style=\"text-align: right;\">\n",
       "      <th></th>\n",
       "      <th>labels</th>\n",
       "      <th>scores</th>\n",
       "    </tr>\n",
       "  </thead>\n",
       "  <tbody>\n",
       "    <tr>\n",
       "      <th>0</th>\n",
       "      <td>politics</td>\n",
       "      <td>0.359630</td>\n",
       "    </tr>\n",
       "    <tr>\n",
       "      <th>1</th>\n",
       "      <td>breaking news</td>\n",
       "      <td>0.225645</td>\n",
       "    </tr>\n",
       "    <tr>\n",
       "      <th>2</th>\n",
       "      <td>pop culture</td>\n",
       "      <td>0.220070</td>\n",
       "    </tr>\n",
       "    <tr>\n",
       "      <th>3</th>\n",
       "      <td>sports</td>\n",
       "      <td>0.161551</td>\n",
       "    </tr>\n",
       "    <tr>\n",
       "      <th>4</th>\n",
       "      <td>science and technologies</td>\n",
       "      <td>0.033104</td>\n",
       "    </tr>\n",
       "  </tbody>\n",
       "</table>\n",
       "</div>"
      ],
      "text/plain": [
       "                     labels    scores\n",
       "0                  politics  0.359630\n",
       "1             breaking news  0.225645\n",
       "2               pop culture  0.220070\n",
       "3                    sports  0.161551\n",
       "4  science and technologies  0.033104"
      ]
     },
     "metadata": {},
     "output_type": "display_data"
    }
   ],
   "source": [
    "categorize_artice(\n",
    "\"\"\" \n",
    "The Delhi High Court will give its verdict today on a petition by Chief Minister Arvind Kejriwal challenging his arrest by the Enforcement Directorate in a money laundering case linked to the alleged liquor policy scam. Justice Swarana Kanta Sharma will pronounce the order shortly.\n",
    "\n",
    "The AAP boss, who has dubbed the corruption case against him a political conspiracy, has also challenged his ED custody. He was later sent to judicial custody till April 15 and now remains in the Tihar jail.\n",
    "\n",
    "During the April 3 high court hearing, Mr Kejriwal had questioned the \"timing\" of his arrest. The Chief Minister had said that his arrest was against the basic structure of the Constitution as it disturbed a level playing field in the upcoming Lok Sabha elections.\n",
    "\n",
    "The ED, which has called Mr Kejriwal \"kingpin\" in the alleged scam, opposed his petition and said the law is applied equally to him and an \"aam aadmi\".\n",
    " \n",
    "\"\"\"\n",
    ")"
   ]
  }
 ],
 "metadata": {
  "kernelspec": {
   "display_name": "simienv",
   "language": "python",
   "name": "python3"
  },
  "language_info": {
   "codemirror_mode": {
    "name": "ipython",
    "version": 3
   },
   "file_extension": ".py",
   "mimetype": "text/x-python",
   "name": "python",
   "nbconvert_exporter": "python",
   "pygments_lexer": "ipython3",
   "version": "3.11.5"
  }
 },
 "nbformat": 4,
 "nbformat_minor": 2
}
