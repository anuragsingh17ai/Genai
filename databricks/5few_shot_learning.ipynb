{
 "cells": [
  {
   "cell_type": "code",
   "execution_count": 1,
   "metadata": {},
   "outputs": [],
   "source": [
    "from transformers import pipeline"
   ]
  },
  {
   "cell_type": "code",
   "execution_count": 5,
   "metadata": {},
   "outputs": [],
   "source": [
    "few_shot_pipeline = pipeline(\n",
    "    task='text-generation',\n",
    "    model='EleutherAI/gpt-neo-1.3B',\n",
    "    max_new_tokens=10,\n",
    "    model_kwargs={'cache_dir':'/home/jellyfish/llms/databricks/data'}\n",
    ")"
   ]
  },
  {
   "cell_type": "code",
   "execution_count": 19,
   "metadata": {},
   "outputs": [],
   "source": [
    "eos_token_id = few_shot_pipeline.tokenizer.encode(\"###\")[0]"
   ]
  },
  {
   "cell_type": "code",
   "execution_count": 20,
   "metadata": {},
   "outputs": [
    {
     "data": {
      "text/plain": [
       "21017"
      ]
     },
     "execution_count": 20,
     "metadata": {},
     "output_type": "execute_result"
    }
   ],
   "source": [
    "eos_token_id"
   ]
  },
  {
   "cell_type": "code",
   "execution_count": 21,
   "metadata": {},
   "outputs": [
    {
     "name": "stderr",
     "output_type": "stream",
     "text": [
      "Setting `pad_token_id` to `eos_token_id`:21017 for open-end generation.\n"
     ]
    }
   ],
   "source": [
    "results = few_shot_pipeline(\n",
    "    \"\"\"For each tweet, describe its sentiment:\n",
    "    \n",
    "    [tweet]: \"This new music video was incredible\"  \n",
    "    [Sentiment]:\"\"\",\n",
    "    eos_token_id= eos_token_id\n",
    ")\n",
    "\n"
   ]
  },
  {
   "cell_type": "code",
   "execution_count": 22,
   "metadata": {},
   "outputs": [
    {
     "data": {
      "text/plain": [
       "'For each tweet, describe its sentiment:\\n    \\n    [tweet]: \"This new music video was incredible\"  \\n    [Sentiment]: \"Intelligent\"    \\n '"
      ]
     },
     "execution_count": 22,
     "metadata": {},
     "output_type": "execute_result"
    }
   ],
   "source": [
    "results[0]['generated_text']"
   ]
  },
  {
   "cell_type": "code",
   "execution_count": 23,
   "metadata": {},
   "outputs": [
    {
     "name": "stderr",
     "output_type": "stream",
     "text": [
      "Setting `pad_token_id` to `eos_token_id`:21017 for open-end generation.\n"
     ]
    }
   ],
   "source": [
    "## with only 1 example, the model may or may not get the answer right\n",
    "\n",
    "results = few_shot_pipeline(\n",
    "    \"\"\" for each tweet, describe its sentiment:\n",
    "    \n",
    "    [Tweet]:\"This is the link to the article\" \n",
    "    [Sentiment]: Neutral  \n",
    "    ### \n",
    "    [Tweet]:\"This new music video was incredible\"   \n",
    "    [Sentiment]:\"\"\",\n",
    "    eos_token_id=eos_token_id\n",
    ")"
   ]
  },
  {
   "cell_type": "code",
   "execution_count": 24,
   "metadata": {},
   "outputs": [
    {
     "name": "stdout",
     "output_type": "stream",
     "text": [
      " for each tweet, describe its sentiment:\n",
      "    \n",
      "    [Tweet]:\"This is the link to the article\" \n",
      "    [Sentiment]: Neutral  \n",
      "    ### \n",
      "    [Tweet]:\"This new music video was incredible\"   \n",
      "    [Sentiment]: Very positive  \n",
      "    ### \n"
     ]
    }
   ],
   "source": [
    "print(results[0][\"generated_text\"])"
   ]
  },
  {
   "cell_type": "code",
   "execution_count": 29,
   "metadata": {},
   "outputs": [
    {
     "name": "stderr",
     "output_type": "stream",
     "text": [
      "Setting `pad_token_id` to `eos_token_id`:50256 for open-end generation.\n"
     ]
    }
   ],
   "source": [
    "## With 1 example for each sentiment, the model is more likely to understand!\n",
    "\n",
    "results = few_shot_pipeline( \n",
    "    \"\"\"For each tweet, describe its sentiment: \n",
    "    \n",
    "    [Tweet]:\"I hate it when my phone battery dies.\"  \n",
    "    [Sentiment]: Negative\n",
    "    ###\n",
    "    [Tweet]:\"My day has been great\"  \n",
    "    [Sentiment]: Positive \n",
    "    ###\n",
    "    [Tweet]: \"This is the link to the article\"  \n",
    "    [Sentiment]: Neutral\n",
    "    ###\n",
    "    [Tweet]: \"I got promotion\"   \n",
    "    [Sentiment]:\"\"\"\n",
    ")"
   ]
  },
  {
   "cell_type": "code",
   "execution_count": 30,
   "metadata": {},
   "outputs": [
    {
     "name": "stdout",
     "output_type": "stream",
     "text": [
      "For each tweet, describe its sentiment: \n",
      "    \n",
      "    [Tweet]:\"I hate it when my phone battery dies.\"  \n",
      "    [Sentiment]: Negative\n",
      "    ###\n",
      "    [Tweet]:\"My day has been great\"  \n",
      "    [Sentiment]: Positive \n",
      "    ###\n",
      "    [Tweet]: \"This is the link to the article\"  \n",
      "    [Sentiment]: Neutral\n",
      "    ###\n",
      "    [Tweet]: \"I got promotion\"   \n",
      "    [Sentiment]: Negative \n",
      "    ###\n",
      "  \n"
     ]
    }
   ],
   "source": [
    "print(results[0]['generated_text'])"
   ]
  },
  {
   "cell_type": "code",
   "execution_count": null,
   "metadata": {},
   "outputs": [],
   "source": []
  }
 ],
 "metadata": {
  "kernelspec": {
   "display_name": "simienv",
   "language": "python",
   "name": "python3"
  },
  "language_info": {
   "codemirror_mode": {
    "name": "ipython",
    "version": 3
   },
   "file_extension": ".py",
   "mimetype": "text/x-python",
   "name": "python",
   "nbconvert_exporter": "python",
   "pygments_lexer": "ipython3",
   "version": "3.11.5"
  }
 },
 "nbformat": 4,
 "nbformat_minor": 2
}
