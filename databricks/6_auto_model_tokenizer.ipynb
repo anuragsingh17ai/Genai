{
 "cells": [
  {
   "cell_type": "code",
   "execution_count": 1,
   "metadata": {},
   "outputs": [],
   "source": [
    "from transformers import AutoTokenizer, AutoModelForSeq2SeqLM"
   ]
  },
  {
   "cell_type": "code",
   "execution_count": 4,
   "metadata": {},
   "outputs": [],
   "source": [
    "tokenizer = AutoTokenizer.from_pretrained(\n",
    "    \"t5-small\",\n",
    "    cache_dir= \"/home/jellyfish/llms/databricks/data\"\n",
    ")\n",
    "\n",
    "model = AutoModelForSeq2SeqLM.from_pretrained(\n",
    "    \"t5-small\",\n",
    "    cache_dir = '/home/jellyfish/llms/databricks/data'\n",
    ")"
   ]
  },
  {
   "cell_type": "code",
   "execution_count": 6,
   "metadata": {},
   "outputs": [],
   "source": [
    "# t5-small expect a prefix \"summarize:\"\n",
    "article = 'summarize: ' + \"\"\"An MBA from Wharton School, Anil Ambani, 64, the younger son of legendary business tycoon, Dhirubhai Ambani, was known for his flamboyant nature — he married bollywood actress Tina Munim and was a Rajya Sabha MP for two years — as much as for his unbeatable business acumen. But over the past few years, he has had setbacks across businesses that pushed him out of the billionaire list.\"\"\""
   ]
  },
  {
   "cell_type": "code",
   "execution_count": 8,
   "metadata": {},
   "outputs": [
    {
     "name": "stdout",
     "output_type": "stream",
     "text": [
      "tensor([[21603,    10,   389, 15751,    45,   549, 13626,   106,  1121,     6,\n",
      "           389,   173,   736,  3478,    23,     6,  6687,     6,     8,  5868,\n",
      "           520,    13, 13660,   268,     3,    17,    63,   509,   106,     6,\n",
      "           309,   107,    23, 14446,  1024,    23,   736,  3478,    23,     6,\n",
      "            47,   801,    21,   112,     3, 10980,  7531,   288,  1405,     3,\n",
      "           318,     3,    88,  4464,     3,   115, 30322, 15676,  7138,     9,\n",
      "          9810,   603,    11,    47,     3,     9, 13509,    63,     9, 11315,\n",
      "          1024,  5220,    21,   192,   203,     3,   318,    38,   231,    38,\n",
      "            21,   112,    73, 12745,   179,   268,  2585,    35,     5,   299,\n",
      "           147,     8,   657,   360,   203,     6,     3,    88,    65,   141,\n",
      "           356,  1549,     7,   640,  1623,    24,     3,  9951,   376,    91,\n",
      "            13,     8,  2108,  2378,   570,     5,     1]])\n",
      "@@@\n",
      "tensor([[1, 1, 1, 1, 1, 1, 1, 1, 1, 1, 1, 1, 1, 1, 1, 1, 1, 1, 1, 1, 1, 1, 1, 1,\n",
      "         1, 1, 1, 1, 1, 1, 1, 1, 1, 1, 1, 1, 1, 1, 1, 1, 1, 1, 1, 1, 1, 1, 1, 1,\n",
      "         1, 1, 1, 1, 1, 1, 1, 1, 1, 1, 1, 1, 1, 1, 1, 1, 1, 1, 1, 1, 1, 1, 1, 1,\n",
      "         1, 1, 1, 1, 1, 1, 1, 1, 1, 1, 1, 1, 1, 1, 1, 1, 1, 1, 1, 1, 1, 1, 1, 1,\n",
      "         1, 1, 1, 1, 1, 1, 1, 1, 1, 1, 1, 1, 1, 1, 1, 1, 1, 1, 1, 1, 1]])\n"
     ]
    }
   ],
   "source": [
    "inputs = tokenizer(article, max_length=1024,return_tensors=\"pt\",padding=True, truncation=True)\n",
    "print(inputs['input_ids'])\n",
    "print('@@@')\n",
    "print(inputs['attention_mask'])"
   ]
  },
  {
   "cell_type": "code",
   "execution_count": 11,
   "metadata": {},
   "outputs": [
    {
     "name": "stdout",
     "output_type": "stream",
     "text": [
      "tensor([[    0,    46,   173,   183,  3478,    23,     6,  6687,     6,     8,\n",
      "          5868,   520,    13, 13660,   268,     3,    17,    63,   509,   106,\n",
      "             6,    47,   801,    21,   112,     3, 10980,  7531,   288,  1405,\n",
      "             3,     5,     3,    88,  4464,     3,   115, 30322, 15676,  7138]])\n"
     ]
    }
   ],
   "source": [
    "summary_ids = model.generate(\n",
    "    inputs.input_ids,\n",
    "    attention_mask = inputs.attention_mask,\n",
    "    num_beams=2, min_length=0,max_length=40\n",
    ")\n",
    "print(summary_ids)"
   ]
  },
  {
   "cell_type": "code",
   "execution_count": 13,
   "metadata": {},
   "outputs": [
    {
     "name": "stdout",
     "output_type": "stream",
     "text": [
      "anil ambani, 64, the younger son of legendary business tycoon, was known for his flamboyant nature. he married bollywood actress Tin\n"
     ]
    }
   ],
   "source": [
    "decoded_summary = tokenizer.batch_decode(summary_ids,skip_special_tokens=True)\n",
    "print(''.join(decoded_summary))"
   ]
  },
  {
   "cell_type": "code",
   "execution_count": 18,
   "metadata": {},
   "outputs": [
    {
     "data": {
      "text/markdown": [
       "###Hugging Face also provide model specific tokenizer and model type s\n",
       "#### we can write tokenizer as \n",
       "tokenizer = T5Tokenizer.from_pretrained(\"t5-small\",cache_dir = '/home/jellyfish/llms/databricks/data')\n",
       "\n",
       "###similarly \n",
       "model = T5ForConditionalGeneration.from_pretrained(\n",
       "    \"t5-small\",\n",
       "    cache_dir = '/home/jellyfish/llms/databricks/data'\n",
       ")\n",
       "\n",
       "\n",
       "##### These are done for lower level control\n"
      ],
      "text/plain": [
       "<IPython.core.display.Markdown object>"
      ]
     },
     "metadata": {},
     "output_type": "display_data"
    }
   ],
   "source": [
    "%%markdown\n",
    "###Hugging Face also provide model specific tokenizer and model type s\n",
    "#### we can write tokenizer as \n",
    "tokenizer = T5Tokenizer.from_pretrained(\"t5-small\",cache_dir = '/home/jellyfish/llms/databricks/data')\n",
    "\n",
    "###similarly \n",
    "model = T5ForConditionalGeneration.from_pretrained(\n",
    "    \"t5-small\",\n",
    "    cache_dir = '/home/jellyfish/llms/databricks/data'\n",
    ")\n",
    "\n",
    "\n",
    "##### These are done for lower level control"
   ]
  },
  {
   "cell_type": "code",
   "execution_count": null,
   "metadata": {},
   "outputs": [],
   "source": []
  }
 ],
 "metadata": {
  "kernelspec": {
   "display_name": "simienv",
   "language": "python",
   "name": "python3"
  },
  "language_info": {
   "codemirror_mode": {
    "name": "ipython",
    "version": 3
   },
   "file_extension": ".py",
   "mimetype": "text/x-python",
   "name": "python",
   "nbconvert_exporter": "python",
   "pygments_lexer": "ipython3",
   "version": "3.11.5"
  }
 },
 "nbformat": 4,
 "nbformat_minor": 2
}
